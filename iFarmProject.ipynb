{
 "cells": [
  {
   "cell_type": "code",
   "execution_count": 2,
   "id": "cf6e930a-ed25-4a4e-b805-345e76e7e171",
   "metadata": {},
   "outputs": [],
   "source": [
    "import scipy.io\n",
    "import numpy as np\n",
    "import matplotlib as plt\n",
    "import pandas as p"
   ]
  },
  {
   "cell_type": "code",
   "execution_count": 3,
   "id": "d17b6467-0ee6-49df-94a3-169390435413",
   "metadata": {},
   "outputs": [],
   "source": [
    "data = scipy.io.loadmat('data/iFarmData')\n"
   ]
  },
  {
   "cell_type": "code",
   "execution_count": 4,
   "id": "f003f638-2bb1-4229-8d6e-bfea85fa38c2",
   "metadata": {},
   "outputs": [
    {
     "data": {
      "text/plain": [
       "['AreaH_FAO',\n",
       " 'Co_ID_group_X',\n",
       " 'FAOSTAT_CoCODE_FAO',\n",
       " 'FAOSTAT_CoName_FAO',\n",
       " 'FAOSTAT_CrCODE_FAO',\n",
       " 'FAOSTAT_CrName_FAO',\n",
       " 'GDPPCAP_WB',\n",
       " 'NC_Bou',\n",
       " 'NUE_3d',\n",
       " 'Ndep_kgkm',\n",
       " 'Nexc_kgkm',\n",
       " 'Nfer_kgkm',\n",
       " 'NfixR_kgkm_HDF',\n",
       " 'Nfix_kgkm',\n",
       " 'Nman_kgkm',\n",
       " 'Nyield_kgkm',\n",
       " 'Popu_FAO',\n",
       " 'Popu_rural_FAO',\n",
       " 'Pr_Crop_US',\n",
       " 'Yield_FAO',\n",
       " 'Yr',\n",
       " '__globals__',\n",
       " '__header__',\n",
       " '__version__',\n",
       " 'cr_group_com',\n",
       " 'netImTrade',\n",
       " 'netImTradeVal']"
      ]
     },
     "execution_count": 4,
     "metadata": {},
     "output_type": "execute_result"
    }
   ],
   "source": [
    "sorted(data.keys())"
   ]
  },
  {
   "cell_type": "code",
   "execution_count": 6,
   "id": "2f4517bd-5d11-4500-a718-bf78f4dd6ff1",
   "metadata": {},
   "outputs": [
    {
     "data": {
      "text/plain": [
       "array([[[         nan,          nan,          nan, ...,          nan,\n",
       "                  nan,          nan],\n",
       "        [         nan,          nan,          nan, ..., 1.411400e+02,\n",
       "         1.370300e+02, 1.467600e+02],\n",
       "        [         nan,          nan,          nan, ..., 1.850000e+02,\n",
       "         2.049700e+02, 2.262400e+02],\n",
       "        ...,\n",
       "        [         nan,          nan,          nan, ...,          nan,\n",
       "                  nan,          nan],\n",
       "        [         nan,          nan,          nan, ...,          nan,\n",
       "                  nan,          nan],\n",
       "        [3.000000e+05, 3.000000e+05, 3.000000e+05, ..., 3.000000e+05,\n",
       "         3.000000e+05,          nan]],\n",
       "\n",
       "       [[         nan,          nan,          nan, ...,          nan,\n",
       "                  nan,          nan],\n",
       "        [         nan,          nan,          nan, ...,          nan,\n",
       "                  nan,          nan],\n",
       "        [         nan,          nan,          nan, ...,          nan,\n",
       "                  nan,          nan],\n",
       "        ...,\n",
       "        [         nan,          nan,          nan, ...,          nan,\n",
       "                  nan,          nan],\n",
       "        [         nan,          nan,          nan, ...,          nan,\n",
       "                  nan,          nan],\n",
       "        [7.530000e+03, 7.450000e+03, 7.380000e+03, ..., 4.910000e+03,\n",
       "         4.782900e+03,          nan]],\n",
       "\n",
       "       [[         nan,          nan,          nan, ...,          nan,\n",
       "                  nan,          nan],\n",
       "        [1.330000e+02, 1.330000e+02, 1.330000e+02, ..., 4.901100e+02,\n",
       "         3.905000e+02, 4.040300e+02],\n",
       "        [         nan,          nan,          nan, ...,          nan,\n",
       "                  nan,          nan],\n",
       "        ...,\n",
       "        [         nan,          nan,          nan, ...,          nan,\n",
       "                  nan,          nan],\n",
       "        [         nan,          nan,          nan, ...,          nan,\n",
       "                  nan,          nan],\n",
       "        [3.840500e+05, 3.800000e+05, 3.770000e+05, ..., 3.299643e+05,\n",
       "         3.299180e+05,          nan]],\n",
       "\n",
       "       ...,\n",
       "\n",
       "       [[         nan,          nan,          nan, ...,          nan,\n",
       "                  nan,          nan],\n",
       "        [         nan,          nan,          nan, ...,          nan,\n",
       "                  nan,          nan],\n",
       "        [         nan,          nan,          nan, ...,          nan,\n",
       "                  nan,          nan],\n",
       "        ...,\n",
       "        [         nan,          nan,          nan, ...,          nan,\n",
       "                  nan,          nan],\n",
       "        [         nan,          nan,          nan, ...,          nan,\n",
       "                  nan,          nan],\n",
       "        [6.570000e+04, 6.500000e+04, 6.410000e+04, ...,          nan,\n",
       "                  nan,          nan]],\n",
       "\n",
       "       [[         nan,          nan,          nan, ...,          nan,\n",
       "                  nan,          nan],\n",
       "        [         nan,          nan,          nan, ...,          nan,\n",
       "                  nan,          nan],\n",
       "        [         nan,          nan,          nan, ...,          nan,\n",
       "                  nan,          nan],\n",
       "        ...,\n",
       "        [         nan,          nan,          nan, ...,          nan,\n",
       "                  nan,          nan],\n",
       "        [         nan,          nan,          nan, ...,          nan,\n",
       "                  nan,          nan],\n",
       "        [1.675000e+05, 1.680000e+05, 1.682000e+05, ..., 2.000000e+05,\n",
       "         2.000000e+05,          nan]],\n",
       "\n",
       "       [[         nan,          nan,          nan, ...,          nan,\n",
       "                  nan,          nan],\n",
       "        [         nan,          nan,          nan, ...,          nan,\n",
       "                  nan,          nan],\n",
       "        [         nan,          nan,          nan, ..., 1.100000e+00,\n",
       "         1.290000e+00, 1.320000e+00],\n",
       "        ...,\n",
       "        [         nan,          nan,          nan, ...,          nan,\n",
       "                  nan,          nan],\n",
       "        [         nan,          nan,          nan, ...,          nan,\n",
       "                  nan,          nan],\n",
       "        [9.000000e+04, 9.035000e+04, 9.070000e+04, ..., 1.210000e+05,\n",
       "         1.210000e+05,          nan]]])"
      ]
     },
     "execution_count": 6,
     "metadata": {},
     "output_type": "execute_result"
    }
   ],
   "source": [
    "data['AreaH_FAO']"
   ]
  }
 ],
 "metadata": {
  "kernelspec": {
   "display_name": "Python 3 (ipykernel)",
   "language": "python",
   "name": "python3"
  },
  "language_info": {
   "codemirror_mode": {
    "name": "ipython",
    "version": 3
   },
   "file_extension": ".py",
   "mimetype": "text/x-python",
   "name": "python",
   "nbconvert_exporter": "python",
   "pygments_lexer": "ipython3",
   "version": "3.8.12"
  }
 },
 "nbformat": 4,
 "nbformat_minor": 5
}
